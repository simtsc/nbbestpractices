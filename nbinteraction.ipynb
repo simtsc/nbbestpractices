{
 "cells": [
  {
   "cell_type": "markdown",
   "metadata": {},
   "source": [
    "# Jupyter Notebook best practices for effective collaboration with stakeholders\n",
    "\n",
    "Working with data in Python usually involves writing quite a few lines of code. Jupyter notebooks provide a conventient way to write and execute code and visualize the results. While Jupyter notebooks are a great tool for data scientists and analysts to bring together code and data, they can be intimidating for stakeholders who are not proficient in writing code. Working with many large code cells can be distracting when the focus is less on code but rather on data and visualization. By applying some software engineering skills and jupyter extensions it is possible to reduce this overhead.\n",
    "\n",
    "This notebook serves as a show case for using interactive elements, patterns and extensions to achieve a more productive collaboration between tech and business people. We'll cover:\n",
    "  - **pandas styles**: expressive data frame output\n",
    "  - **visualization**: add interactive visualization\n",
    "  - **ipywidgets**: add interaction\n",
    "  - **patterns**: encapsulate widgets and visualizations into reusable components\n",
    "  - **Jupyter extensions**: create a collaborative, cohesive work environment\n",
    "\n",
    "These are my current best practices. I am always eager to extend this approach with additional packages, patterns, extensions etc. to create even more powerful and productive experiences."
   ]
  },
  {
   "cell_type": "markdown",
   "metadata": {},
   "source": [
    "## Setup\n",
    "\n",
    "First let's create a dataframe containing random timeseries data."
   ]
  },
  {
   "cell_type": "code",
   "execution_count": null,
   "metadata": {
    "scrolled": true
   },
   "outputs": [],
   "source": [
    "import pandas as pd\n",
    "import pandas.util.testing as pdt\n",
    "pdt.N = 12\n",
    "pdt.K = 6\n",
    "data = pdt.makeTimeDataFrame(freq='MS')\n",
    "print('rows, cols:', data.shape)\n",
    "data.head(6)"
   ]
  },
  {
   "cell_type": "markdown",
   "metadata": {},
   "source": [
    "## Pandas\n",
    "\n",
    "### Styles\n",
    "\n",
    "Since pandas 0.17.1 it is possible to customize the way pandas dataframes are rendered by applying custom styles. Technically styling is accomplished using CSS and an API which makes it easy to conditionally apply CSS attribute/value pairs.\n",
    "\n",
    "**Note**: This feature is still under active development."
   ]
  },
  {
   "cell_type": "code",
   "execution_count": null,
   "metadata": {},
   "outputs": [],
   "source": [
    "import functools\n",
    "\n",
    "def highlight(s, func, color):\n",
    "    '''\n",
    "    Sets the background color for values in a pandas Series,\n",
    "    if the value equals the return value of func.\n",
    "    '''\n",
    "    is_true = s == func(s)\n",
    "    return [f'background-color: {color}' if v else '' for v in is_true]\n",
    "\n",
    "hmin = functools.partial(highlight, func=min, color='red')\n",
    "hmax = functools.partial(highlight, func=max, color='lime')\n",
    "\n",
    "display(data.style.apply(hmin).apply(hmax))"
   ]
  },
  {
   "cell_type": "markdown",
   "metadata": {},
   "source": [
    "## Visualization\n",
    "\n",
    "Choosing the right visualization is paramount for communicating meaning of and uncovering patterns in data. Static visualizations are great but adding interactivity allows for quicker exploration and enriches the experience.\n",
    "\n",
    "### matplotlib"
   ]
  },
  {
   "cell_type": "code",
   "execution_count": null,
   "metadata": {},
   "outputs": [],
   "source": [
    "import matplotlib.pyplot as plt\n",
    "%matplotlib inline\n",
    "\n",
    "fsize = (18, 5)\n",
    "\n",
    "# the pandas plotting API uses matplotlib by default\n",
    "data.plot(figsize=fsize)"
   ]
  },
  {
   "cell_type": "markdown",
   "metadata": {},
   "source": [
    "### seaborn\n",
    "\n",
    "The seaborn package provides powerful functions for creating static statistical plots. It sits on top of matplotlib."
   ]
  },
  {
   "cell_type": "code",
   "execution_count": null,
   "metadata": {},
   "outputs": [],
   "source": [
    "# %conda install seaborn"
   ]
  },
  {
   "cell_type": "code",
   "execution_count": null,
   "metadata": {},
   "outputs": [],
   "source": [
    "import seaborn as sns\n",
    "_, ax = plt.subplots(figsize=fsize)\n",
    "\n",
    "sns.lineplot(data=data, ax=ax, style='event', markers=True, dashes=False, n_boot=3)"
   ]
  },
  {
   "cell_type": "markdown",
   "metadata": {},
   "source": [
    "### bokeh\n",
    "\n",
    "From the official website: \n",
    "> \"_Bokeh is an interactive visualization library that targets modern web browsers for presentation. Its goal is to provide elegant, concise construction of versatile graphics, and to extend this capability with high-performance interactivity over very large or streaming datasets._\""
   ]
  },
  {
   "cell_type": "code",
   "execution_count": null,
   "metadata": {},
   "outputs": [],
   "source": [
    "# %conda install bokeh"
   ]
  },
  {
   "cell_type": "code",
   "execution_count": null,
   "metadata": {},
   "outputs": [],
   "source": [
    "from bokeh.models import ColumnDataSource\n",
    "from bokeh.plotting import figure, show, output_notebook\n",
    "from bokeh.models.tools import HoverTool\n",
    "import random\n",
    "\n",
    "# render in current notebook instead of indiviudal website\n",
    "output_notebook()\n",
    "\n",
    "# choose a random column\n",
    "col = random.choice(data.columns)\n",
    "source = ColumnDataSource(data[[col]].rename(columns={col: 'series'}))\n",
    "\n",
    "p = figure(x_axis_type=\"datetime\", plot_width=980, plot_height=200, title=f'Timeseries {col}')\n",
    "p.add_tools(HoverTool(\n",
    "    tooltips=[\n",
    "        ('value', '@series{0.2f}'),\n",
    "    ],\n",
    "    mode='vline'\n",
    "))\n",
    "\n",
    "p.line('index', 'series', source=source)\n",
    "\n",
    "show(p)"
   ]
  },
  {
   "cell_type": "markdown",
   "metadata": {},
   "source": [
    "### bqplot\n",
    "\n",
    "bqplot is a plotting framework of interactive widgets made for Jupyter notebooks. It was created by Bloomberg."
   ]
  },
  {
   "cell_type": "code",
   "execution_count": null,
   "metadata": {},
   "outputs": [],
   "source": [
    "# %conda install bqplot -c conda-forge"
   ]
  },
  {
   "cell_type": "code",
   "execution_count": null,
   "metadata": {},
   "outputs": [],
   "source": [
    "import ipywidgets as widgets\n",
    "from bqplot import ColorScale, DateScale, LinearScale, Lines, Axis, Figure\n",
    "from bqplot.interacts import MultiSelector, IndexSelector\n",
    "import random, re\n",
    "\n",
    "def index_sel_dt_callback(change):\n",
    "    \"\"\"Callback to update graph when new data has been selected\n",
    "    \n",
    "    Parameters\n",
    "    ----------\n",
    "    change : dict\n",
    "        Widget and changed values.\n",
    "    \"\"\"\n",
    "    if selector.selected:\n",
    "        date = re.split(r'T', str(selector.selected[0]))[0]\n",
    "        label.value = date\n",
    "\n",
    "# choose a random column\n",
    "col = random.choice(data.columns)\n",
    "source = data[col]\n",
    "\n",
    "# set scales and axes\n",
    "scales = {\n",
    "    'x': DateScale(), \n",
    "    'y': LinearScale(), \n",
    "    'color': ColorScale(scheme='oranges')\n",
    "}\n",
    "\n",
    "axes = [\n",
    "    Axis(scale=scales['x'], label='Date', num_ticks=int(len(source.index) / 2)),\n",
    "    Axis(scale=scales['y'], label='Value', orientation='vertical')\n",
    "]\n",
    "\n",
    "line = Lines(x=source.index, y=source, scales=scales)\n",
    "\n",
    "# create interactive selector and monitor brushing events\n",
    "selector = IndexSelector(scale=scales['x'], show_names=False, continuous_update=False)\n",
    "selector.observe(index_sel_dt_callback, ['selected'])\n",
    "\n",
    "fig = Figure(marks=[line], \n",
    "             axes=axes, \n",
    "             interaction=selector, \n",
    "             title=f'Timeseries {col}',\n",
    "             animation_duration=1000, \n",
    "             layout=widgets.Layout(min_width='980px', max_height='250px'))\n",
    "label = widgets.Label()\n",
    "widgets.VBox(children=[fig, label])"
   ]
  },
  {
   "cell_type": "markdown",
   "metadata": {},
   "source": [
    "## Widgets\n",
    "\n",
    "Jupyter widgets are interactive elements which can be added to a notebook cell. Widgets can be used to modify variables and report status, instead of changing code and re-running cells."
   ]
  },
  {
   "cell_type": "code",
   "execution_count": null,
   "metadata": {},
   "outputs": [],
   "source": [
    "import ipywidgets as widgets\n",
    "from IPython.display import display\n",
    "\n",
    "# the @interact decorator can automatically infer which\n",
    "# widget to display based on a paramter's type.\n",
    "\n",
    "@widgets.interact(col=data.columns)\n",
    "def select_series(col):\n",
    "    \"\"\"This function creates a simple plot for\n",
    "    the selected column.\n",
    "    \n",
    "    Parameters\n",
    "    ----------\n",
    "    col : str\n",
    "        Column name.\n",
    "    \"\"\"\n",
    "    series = data[col]\n",
    "    series.plot(figsize=fsize)"
   ]
  },
  {
   "cell_type": "code",
   "execution_count": null,
   "metadata": {},
   "outputs": [],
   "source": [
    "# It is still possible to create widgets explicitly\n",
    "# to have more fine grained control over a widget's properties.\n",
    "\n",
    "@widgets.interact(col=widgets.Dropdown(options=data.columns, description='Feature:'))\n",
    "def select_series(col):\n",
    "    \"\"\"This function creates a simple plot for\n",
    "    the selected column.\n",
    "    \n",
    "    Parameters\n",
    "    ----------\n",
    "    col : str\n",
    "        Column name.\n",
    "    \"\"\"\n",
    "    series = data[col]\n",
    "    series.plot(figsize=fsize)"
   ]
  },
  {
   "cell_type": "markdown",
   "metadata": {},
   "source": [
    "## Patterns\n",
    "\n",
    "The discussed methods work well but are local to a cell or notebook. At some point one may find that certain recurring implementation patterns emerge. For instance, visualizing and selecting a certain type of data may be repeatedly reimplemented in the same way. Similarly the same visualizations may be required in different notebooks. In addition handling state becomes difficult and messy over time.\n",
    "\n",
    "Thus, it makes sense to eventually encapsulate recurring patterns such as widget and visualization constellations into reusable components which can simply be imported into new notebooks. State can be stored in class members."
   ]
  },
  {
   "cell_type": "code",
   "execution_count": null,
   "metadata": {},
   "outputs": [],
   "source": [
    "import mywidgets\n",
    "\n",
    "tse = mywidgets.TSExplorer(data, layout=widgets.Layout(width='980px', height='490px'))"
   ]
  },
  {
   "cell_type": "code",
   "execution_count": null,
   "metadata": {},
   "outputs": [],
   "source": [
    "tse"
   ]
  },
  {
   "cell_type": "code",
   "execution_count": null,
   "metadata": {
    "scrolled": true
   },
   "outputs": [],
   "source": [
    "tse.selected_data"
   ]
  },
  {
   "cell_type": "code",
   "execution_count": null,
   "metadata": {},
   "outputs": [],
   "source": [
    "tse"
   ]
  },
  {
   "cell_type": "code",
   "execution_count": null,
   "metadata": {},
   "outputs": [],
   "source": [
    "tse.reset(selected_feature=True, selected_dates=True)\n",
    "tse.selected_data"
   ]
  },
  {
   "cell_type": "markdown",
   "metadata": {},
   "source": [
    "## Jupyter Notebook Extensions\n",
    "\n",
    "  - Hide input all\n",
    "  - Table of Contents (2)\n",
    "  - Variable Inspector\n",
    "  - Highlight selected word\n",
    "  - Hide input\n",
    "  - Scratchpad\n",
    "\n",
    "## Key takeaways\n",
    "  1. **Combine interactive widgets and visualizations into reusable components**\n",
    "     * Helps to apply the DRY principle\n",
    "     * Facilitates building common tools and share them\n",
    "     * Manage state\n",
    "  2. **Use jupyter extensions to adapt the environment to the current context**\n",
    "     * Reduce distractions\n",
    "     * Quicker navigation\n",
    "\n",
    "## Resources\n",
    "\n",
    "### Discussed in this notebook\n",
    "  - [pandas styles docs](https://pandas.pydata.org/pandas-docs/stable/style.html)\n",
    "  - [seaborn](https://seaborn.pydata.org)\n",
    "  - [bokeh](https://bokeh.pydata.org)\n",
    "  - [bqplot](https://github.com/bloomberg/bqplot)\n",
    "  - [ipywidgets](https://ipywidgets.readthedocs.io)\n",
    "  - [Jupyter notebook extensions](https://jupyter-contrib-nbextensions.readthedocs.io)\n",
    "  \n",
    "### Going further\n",
    "  - [beakerx](http://beakerx.com)\n",
    "  - [jupyterlab](https://jupyterlab.readthedocs.io/en/stable/getting_started/overview.html)"
   ]
  }
 ],
 "metadata": {
  "hide_input": false,
  "kernelspec": {
   "display_name": "Python 3",
   "language": "python",
   "name": "python3"
  },
  "language_info": {
   "codemirror_mode": {
    "name": "ipython",
    "version": 3
   },
   "file_extension": ".py",
   "mimetype": "text/x-python",
   "name": "python",
   "nbconvert_exporter": "python",
   "pygments_lexer": "ipython3",
   "version": "3.7.6"
  },
  "toc": {
   "base_numbering": 1,
   "nav_menu": {},
   "number_sections": true,
   "sideBar": true,
   "skip_h1_title": false,
   "title_cell": "Table of Contents",
   "title_sidebar": "Contents",
   "toc_cell": false,
   "toc_position": {
    "height": "calc(100% - 180px)",
    "left": "10px",
    "top": "150px",
    "width": "190px"
   },
   "toc_section_display": true,
   "toc_window_display": true
  },
  "varInspector": {
   "cols": {
    "lenName": 16,
    "lenType": 16,
    "lenVar": 40
   },
   "kernels_config": {
    "python": {
     "delete_cmd_postfix": "",
     "delete_cmd_prefix": "del ",
     "library": "var_list.py",
     "varRefreshCmd": "print(var_dic_list())"
    },
    "r": {
     "delete_cmd_postfix": ") ",
     "delete_cmd_prefix": "rm(",
     "library": "var_list.r",
     "varRefreshCmd": "cat(var_dic_list()) "
    }
   },
   "position": {
    "height": "281.5px",
    "left": "1256px",
    "right": "20px",
    "top": "121px",
    "width": "310px"
   },
   "types_to_exclude": [
    "module",
    "function",
    "builtin_function_or_method",
    "instance",
    "_Feature"
   ],
   "window_display": false
  }
 },
 "nbformat": 4,
 "nbformat_minor": 2
}
