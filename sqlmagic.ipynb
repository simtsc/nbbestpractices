{
 "cells": [
  {
   "cell_type": "markdown",
   "metadata": {},
   "source": [
    "# Jupyter Notebook best practices for working with SQL\n",
    "\n",
    "During the analysis phase it can be cumbersome to manage SQL connections and passing string with SQL queries around, e.g. by using `sqlalchemy`. This notebook showcases the application of the `ipython-sql` extension for Jupyter notebooks, which greatly simplifies using SQL and `pandas` during an analysis.\n",
    "\n",
    "## Setup\n",
    "\n",
    "First, let's define the database connection url in an environment variable called `DATABASE_URL`. This connection url will be used by the [ipython-sql](https://pypi.org/project/ipython-sql/) extension."
   ]
  },
  {
   "cell_type": "code",
   "execution_count": null,
   "metadata": {},
   "outputs": [],
   "source": [
    "%env DATABASE_URL=sqlite:///data/ts.db"
   ]
  },
  {
   "cell_type": "markdown",
   "metadata": {},
   "source": [
    "This repository already contains a simple database file called ts.db. This file has been created by the cell below. You can simply skip the next cell to use that file or re-run it to overwrite the existing file with new random data."
   ]
  },
  {
   "cell_type": "code",
   "execution_count": null,
   "metadata": {},
   "outputs": [],
   "source": [
    "import os\n",
    "import sqlalchemy\n",
    "engine = sqlalchemy.create_engine(os.environ['DATABASE_URL'])\n",
    "\n",
    "import pandas as pd\n",
    "import pandas.util.testing as pdt\n",
    "pdt.N = 12\n",
    "pdt.K = 6\n",
    "data = pdt.makeTimeDataFrame(freq='MS')\n",
    "\n",
    "data.to_sql('data', index=True, index_label='ts', if_exists='replace', con=engine)"
   ]
  },
  {
   "cell_type": "markdown",
   "metadata": {},
   "source": [
    "Let's see which columns we have available."
   ]
  },
  {
   "cell_type": "code",
   "execution_count": null,
   "metadata": {},
   "outputs": [],
   "source": [
    "data.columns"
   ]
  },
  {
   "cell_type": "markdown",
   "metadata": {},
   "source": [
    "## SQL magic\n",
    "\n",
    "Before we can use the `%sql` cell magics we have to load the ipython SQL extension."
   ]
  },
  {
   "cell_type": "code",
   "execution_count": null,
   "metadata": {},
   "outputs": [],
   "source": [
    "# %pip install ipython-sql"
   ]
  },
  {
   "cell_type": "code",
   "execution_count": null,
   "metadata": {},
   "outputs": [],
   "source": [
    "%load_ext sql"
   ]
  },
  {
   "cell_type": "markdown",
   "metadata": {},
   "source": [
    "### Queries\n",
    "\n",
    "A single line SQL query can be executed by prefixing the query with `%sql`."
   ]
  },
  {
   "cell_type": "code",
   "execution_count": null,
   "metadata": {},
   "outputs": [],
   "source": [
    "%sql SELECT ts, A FROM data WHERE A < 0"
   ]
  },
  {
   "cell_type": "markdown",
   "metadata": {},
   "source": [
    "The result of such a query can be directly assigned to a python variable. Note however, that the result is not a `pandas.DataFrame` but a `sql.run.ResultSet`."
   ]
  },
  {
   "cell_type": "code",
   "execution_count": null,
   "metadata": {},
   "outputs": [],
   "source": [
    "negative_bs = %sql SELECT B FROM data WHERE B < 0"
   ]
  },
  {
   "cell_type": "code",
   "execution_count": null,
   "metadata": {},
   "outputs": [],
   "source": [
    "type(negative_bs)"
   ]
  },
  {
   "cell_type": "markdown",
   "metadata": {},
   "source": [
    "One may want to spread a query over multiple lines to increase readability when the query becomes more complex. This can be done by using `%%sql` instead of just `%sql`."
   ]
  },
  {
   "cell_type": "code",
   "execution_count": null,
   "metadata": {
    "scrolled": true
   },
   "outputs": [],
   "source": [
    "%%sql\n",
    "WITH summer_es AS (\n",
    "SELECT\n",
    "    E,\n",
    "    CAST(strftime('%m', ts) AS INTEGER) AS month\n",
    "FROM\n",
    "    data\n",
    "WHERE\n",
    "    month in (6,7,8)\n",
    ")\n",
    "SELECT \n",
    "    * \n",
    "FROM\n",
    "    summer_es\n",
    "WHERE\n",
    "    E > 0\n",
    "ORDER BY\n",
    "    E DESC"
   ]
  },
  {
   "cell_type": "markdown",
   "metadata": {},
   "source": [
    "The result of a multi-line query can be assigned to a variable as well. The syntax is a bit different though. Note the `<<` operator."
   ]
  },
  {
   "cell_type": "code",
   "execution_count": null,
   "metadata": {
    "scrolled": true
   },
   "outputs": [],
   "source": [
    "%%sql positive_summer_es <<\n",
    "WITH summer_es AS (\n",
    "SELECT\n",
    "    CAST(strftime('%m', ts) AS INTEGER) AS month,\n",
    "    E\n",
    "FROM\n",
    "    data\n",
    "WHERE\n",
    "    month in (6,7,8)\n",
    ")\n",
    "SELECT \n",
    "    * \n",
    "FROM\n",
    "    summer_es\n",
    "WHERE\n",
    "    E > 0\n",
    "ORDER BY\n",
    "    E DESC"
   ]
  },
  {
   "cell_type": "markdown",
   "metadata": {},
   "source": [
    "### Ploting\n",
    "\n",
    "A `ResultSet` offers some convenience functions for plotting."
   ]
  },
  {
   "cell_type": "code",
   "execution_count": null,
   "metadata": {},
   "outputs": [],
   "source": [
    "%matplotlib inline"
   ]
  },
  {
   "cell_type": "code",
   "execution_count": null,
   "metadata": {
    "scrolled": true
   },
   "outputs": [],
   "source": [
    "positive_summer_es.bar()"
   ]
  },
  {
   "cell_type": "markdown",
   "metadata": {},
   "source": [
    "### Exporting\n",
    "\n",
    "It is also possible to export or convert the query result.\n",
    "\n",
    "#### file\n",
    "\n",
    "A `ResultSet` can be written directly to a csv file."
   ]
  },
  {
   "cell_type": "code",
   "execution_count": null,
   "metadata": {},
   "outputs": [],
   "source": [
    "positive_summer_es.csv(filename='positive_summer_es.csv')"
   ]
  },
  {
   "cell_type": "markdown",
   "metadata": {},
   "source": [
    "#### pandas.DataFrame\n",
    "\n",
    "Converting to a `pandas.DataFrame` is equally supported."
   ]
  },
  {
   "cell_type": "code",
   "execution_count": null,
   "metadata": {},
   "outputs": [],
   "source": [
    "pos_summer_sales = positive_summer_es.DataFrame()"
   ]
  },
  {
   "cell_type": "code",
   "execution_count": null,
   "metadata": {},
   "outputs": [],
   "source": [
    "pos_summer_sales.dtypes"
   ]
  },
  {
   "cell_type": "markdown",
   "metadata": {},
   "source": [
    "#### database table\n",
    "\n",
    "Finally, a `pandas.DataFrame` can be persisted to a database table without much effort. The resulting table in the database will have the same name as the dataframe variable."
   ]
  },
  {
   "cell_type": "code",
   "execution_count": null,
   "metadata": {},
   "outputs": [],
   "source": [
    "%sql --persist pos_summer_sales"
   ]
  },
  {
   "cell_type": "markdown",
   "metadata": {},
   "source": [
    "Query the newly created table."
   ]
  },
  {
   "cell_type": "code",
   "execution_count": null,
   "metadata": {},
   "outputs": [],
   "source": [
    "%sql SELECT * FROM pos_summer_sales"
   ]
  }
 ],
 "metadata": {
  "hide_input": false,
  "kernelspec": {
   "display_name": "Python 3",
   "language": "python",
   "name": "python3"
  },
  "language_info": {
   "codemirror_mode": {
    "name": "ipython",
    "version": 3
   },
   "file_extension": ".py",
   "mimetype": "text/x-python",
   "name": "python",
   "nbconvert_exporter": "python",
   "pygments_lexer": "ipython3",
   "version": "3.7.6"
  },
  "toc": {
   "base_numbering": 1,
   "nav_menu": {},
   "number_sections": true,
   "sideBar": true,
   "skip_h1_title": false,
   "title_cell": "Table of Contents",
   "title_sidebar": "Contents",
   "toc_cell": false,
   "toc_position": {},
   "toc_section_display": false,
   "toc_window_display": false
  },
  "varInspector": {
   "cols": {
    "lenName": 16,
    "lenType": 16,
    "lenVar": 40
   },
   "kernels_config": {
    "python": {
     "delete_cmd_postfix": "",
     "delete_cmd_prefix": "del ",
     "library": "var_list.py",
     "varRefreshCmd": "print(var_dic_list())"
    },
    "r": {
     "delete_cmd_postfix": ") ",
     "delete_cmd_prefix": "rm(",
     "library": "var_list.r",
     "varRefreshCmd": "cat(var_dic_list()) "
    }
   },
   "types_to_exclude": [
    "module",
    "function",
    "builtin_function_or_method",
    "instance",
    "_Feature"
   ],
   "window_display": false
  }
 },
 "nbformat": 4,
 "nbformat_minor": 4
}
